{
 "cells": [
  {
   "cell_type": "code",
   "execution_count": 56,
   "metadata": {},
   "outputs": [],
   "source": [
    "# vocab building\n",
    "import os\n",
    "import csv\n",
    "from torchtext.data.utils import get_tokenizer\n",
    "from torchtext.vocab import build_vocab_from_iterator\n",
    "\n",
    "folder_path = 'proccessed_data/'\n",
    "train = open('./data/train.csv', 'r', encoding='utf-8-sig')\n",
    "test = open('./data/test.csv', 'r', encoding='utf-8-sig')\n",
    "files = os.listdir(folder_path)\n",
    "\n",
    "# 四大分類\n",
    "dict = {\"浪漫派\":1, \"山水田園派\":2, \"社會寫實派\":3, \"邊塞派\":4}\n",
    "# 建立 tokenizer \n",
    "tokenizer = get_tokenizer(\"basic_english\")\n",
    "\n",
    "def yield_tokens(folder_path):\n",
    "    for file in files:\n",
    "        file_path = os.path.join(folder_path, file)\n",
    "        # print(file[:-4])\n",
    "        with open(file_path, 'r', encoding = 'utf-8-sig') as f:\n",
    "            csvreader = csv.reader(f)\n",
    "            for row in csvreader:\n",
    "                for char in row[0]:\n",
    "                    # vocab building\n",
    "                    yield tokenizer(char)\n",
    "\n",
    "vocab = build_vocab_from_iterator(yield_tokens(folder_path), specials=[\"<unk>\"])\n",
    "vocab.set_default_index(vocab[\"<unk>\"])\n",
    "text_pipeline = lambda x: vocab(tokenizer(x))\n",
    "label_pipeline = lambda x: int(x) - 1\n"
   ]
  },
  {
   "cell_type": "code",
   "execution_count": 57,
   "metadata": {},
   "outputs": [],
   "source": [
    "# dataset building\n",
    "import pandas as pd\n",
    "from torch.utils.data import Dataset\n",
    "class CustomDataset(Dataset):\n",
    "    def __init__(self, csv_file, transform=None):\n",
    "        self.data = pd.read_csv(csv_file)\n",
    "        self.transform = transform\n",
    "\n",
    "    def __len__(self):\n",
    "        return len(self.data)\n",
    "\n",
    "    # data: {label, text}\n",
    "    def __getitem__(self, idx):\n",
    "        sample = self.data.iloc[idx]\n",
    "        label = sample.iloc[0]\n",
    "        text = sample.iloc[1]\n",
    "        if self.transform:\n",
    "            label = self.transform(label)\n",
    "            text = self.transform(text)\n",
    "        return label, text\n",
    "\n",
    "def transform(sample):\n",
    "    return sample\n",
    "\n",
    "test_file = './data/test.csv'\n",
    "train_file = './data/train.csv'\n",
    "\n",
    "train_dataset = CustomDataset(train_file, transform=transform)\n",
    "test_dataset = CustomDataset(test_file, transform=transform)"
   ]
  },
  {
   "cell_type": "code",
   "execution_count": 58,
   "metadata": {},
   "outputs": [],
   "source": [
    "import torch\n",
    "from torch.utils.data import DataLoader\n",
    "from torch import nn\n",
    "\n",
    "# Generate data batch and iterato\n",
    "device = torch.device(\"cuda\" if torch.cuda.is_available() else \"cpu\")\n",
    "def collate_batch(batch):\n",
    "    label_list, text_list, offsets = [], [], [0]\n",
    "    for _label, _text in batch:\n",
    "        label_list.append(label_pipeline(_label))\n",
    "        processed_text = torch.tensor(text_pipeline(_text), dtype=torch.int64)\n",
    "        text_list.append(processed_text)\n",
    "        offsets.append(processed_text.size(0))\n",
    "    label_list = torch.tensor(label_list, dtype=torch.int64)\n",
    "    offsets = torch.tensor(offsets[:-1]).cumsum(dim=0)\n",
    "    text_list = torch.cat(text_list)\n",
    "    return label_list.to(device), text_list.to(device), offsets.to(device)\n",
    "\n",
    "# model define\n",
    "class TextClassificationModel(nn.Module):\n",
    "    def __init__(self, vocab_size, embed_dim, num_class):\n",
    "        super(TextClassificationModel, self).__init__()\n",
    "        self.embedding = nn.EmbeddingBag(vocab_size, embed_dim, sparse=False)\n",
    "        self.fc = nn.Linear(embed_dim, num_class)\n",
    "        self.init_weights()\n",
    "\n",
    "    def init_weights(self):\n",
    "        initrange = 0.5\n",
    "        self.embedding.weight.data.uniform_(-initrange, initrange)\n",
    "        self.fc.weight.data.uniform_(-initrange, initrange)\n",
    "        self.fc.bias.data.zero_()\n",
    "\n",
    "    def forward(self, text, offsets):\n",
    "        embedded = self.embedding(text, offsets)\n",
    "        return self.fc(embedded)\n",
    "    \n",
    "num_class = 4\n",
    "vocab_size = len(vocab)\n",
    "emsize = 64\n",
    "model = TextClassificationModel(vocab_size, emsize, num_class).to(device)"
   ]
  },
  {
   "cell_type": "code",
   "execution_count": 60,
   "metadata": {},
   "outputs": [],
   "source": [
    "import time\n",
    "\n",
    "EPOCHS = 10 \n",
    "LR = 5  # learning rate\n",
    "BATCH_SIZE = 64  \n",
    "criterion = torch.nn.CrossEntropyLoss()\n",
    "optimizer = torch.optim.SGD(model.parameters(), lr=LR)\n",
    "\n",
    "def train(dataloader, epoch):\n",
    "    model.train()\n",
    "    total_acc, total_count = 0, 0\n",
    "    log_interval = 400\n",
    "    start_time = time.time()\n",
    "    for idx, (label, text, offsets) in enumerate(dataloader):\n",
    "        optimizer.zero_grad()\n",
    "        predicted_label = model(text, offsets)\n",
    "        loss = criterion(predicted_label, label)\n",
    "        loss.backward()\n",
    "        torch.nn.utils.clip_grad_norm_(model.parameters(), 0.1)\n",
    "        optimizer.step()\n",
    "        total_acc += (predicted_label.argmax(1) == label).sum().item()\n",
    "        total_count += label.size(0)\n",
    "        if idx % log_interval == 0 and idx > 0:\n",
    "            total_acc, total_count = 0, 0\n",
    "            start_time = time.time()\n",
    "\n",
    "\n",
    "def evaluate(dataloader):\n",
    "    model.eval()\n",
    "    total_acc, total_count = 0, 0\n",
    "\n",
    "    with torch.no_grad():\n",
    "        for idx, (label, text, offsets) in enumerate(dataloader):\n",
    "            predicted_label = model(text, offsets)\n",
    "            loss = criterion(predicted_label, label)\n",
    "            total_acc += (predicted_label.argmax(1) == label).sum().item()\n",
    "            total_count += label.size(0)\n",
    "    return total_acc / total_count"
   ]
  },
  {
   "cell_type": "markdown",
   "metadata": {},
   "source": [
    "cross valid score"
   ]
  },
  {
   "cell_type": "code",
   "execution_count": 61,
   "metadata": {},
   "outputs": [
    {
     "name": "stdout",
     "output_type": "stream",
     "text": [
      "---------------------------------------------\n",
      "| end of epoch   1 | valid accuracy    0.448 |\n",
      "---------------------------------------------\n",
      "| end of epoch   2 | valid accuracy    0.511 |\n",
      "---------------------------------------------\n",
      "| end of epoch   3 | valid accuracy    0.522 |\n",
      "---------------------------------------------\n",
      "| end of epoch   4 | valid accuracy    0.527 |\n",
      "---------------------------------------------\n",
      "| end of epoch   5 | valid accuracy    0.507 |\n",
      "---------------------------------------------\n",
      "| end of epoch   6 | valid accuracy    0.514 |\n",
      "---------------------------------------------\n",
      "| end of epoch   7 | valid accuracy    0.517 |\n",
      "---------------------------------------------\n",
      "| end of epoch   8 | valid accuracy    0.517 |\n",
      "---------------------------------------------\n",
      "| end of epoch   9 | valid accuracy    0.517 |\n",
      "---------------------------------------------\n",
      "| end of epoch  10 | valid accuracy    0.517 |\n",
      "---------------------------------------------\n",
      "The mean of valid accuracy  0.5094782608695653\n"
     ]
    }
   ],
   "source": [
    "from torch.utils.data.dataset import random_split\n",
    "from torchtext.data.functional import to_map_style_dataset\n",
    "\n",
    "scheduler = torch.optim.lr_scheduler.StepLR(optimizer, 1.0, gamma=0.1)\n",
    "total_accu = None\n",
    "num_train = int(len(train_dataset) * 0.95)\n",
    "split_train_, split_valid_ = random_split(\n",
    "    train_dataset, [num_train, len(train_dataset) - num_train]\n",
    ")\n",
    "\n",
    "train_dataloader = DataLoader(\n",
    "    split_train_, batch_size=BATCH_SIZE, shuffle=True, collate_fn=collate_batch\n",
    ")\n",
    "valid_dataloader = DataLoader(\n",
    "    split_valid_, batch_size=BATCH_SIZE, shuffle=True, collate_fn=collate_batch\n",
    ")\n",
    "test_dataloader = DataLoader(\n",
    "    test_dataset, batch_size=BATCH_SIZE, shuffle=True, collate_fn=collate_batch\n",
    ")\n",
    "total = 0\n",
    "for epoch in range(1, EPOCHS + 1):\n",
    "    epoch_start_time = time.time()\n",
    "    train(train_dataloader, epoch)\n",
    "    accu_val = evaluate(valid_dataloader)\n",
    "    if total_accu is not None and total_accu > accu_val:\n",
    "        scheduler.step()\n",
    "    else:\n",
    "        total_accu = accu_val\n",
    "    total+=accu_val\n",
    "    print(\"-\" * 45)\n",
    "    print(\n",
    "        \"| end of epoch {:3d} | valid accuracy {:8.3f} |\".format(epoch, accu_val)\n",
    "    )\n",
    "print(\"-\" * 45)\n",
    "print(\"The mean of valid accuracy \", total/10)"
   ]
  },
  {
   "cell_type": "code",
   "execution_count": 68,
   "metadata": {},
   "outputs": [
    {
     "name": "stdout",
     "output_type": "stream",
     "text": [
      "[[426  67 126  57]\n",
      " [ 95 148 165  44]\n",
      " [122  72 693  80]\n",
      " [ 59  34 125 103]]\n"
     ]
    },
    {
     "data": {
      "image/png": "[encoded data removed]",
      "text/plain": [
       "<Figure size 640x480 with 2 Axes>"
      ]
     },
     "metadata": {},
     "output_type": "display_data"
    }
   ],
   "source": [
    "import json\n",
    "import io\n",
    "import re\n",
    "import numpy as np\n",
    "import matplotlib.pyplot as plt\n",
    "from sklearn.metrics import ConfusionMatrixDisplay\n",
    "\n",
    "def confusion_matrix(dataloader):\n",
    "    confusion_matrix = np.zeros((4, 4), dtype=np.int64)\n",
    "    model.eval()\n",
    "    with torch.no_grad():\n",
    "        for idx, (label, text, offsets) in enumerate(dataloader):\n",
    "            predicted_label = model(text, offsets)\n",
    "            \n",
    "            for i in range(label.shape[0]):\n",
    "                confusion_matrix[label[i], predicted_label.argmax(1)[i]] +=1\n",
    "    return confusion_matrix\n",
    "\n",
    "print(confusion_matrix(test_dataloader))\n",
    "display = ConfusionMatrixDisplay(confusion_matrix(test_dataloader)).plot(cmap='Blues')\n"
   ]
  },
  {
   "cell_type": "code",
   "execution_count": 69,
   "metadata": {},
   "outputs": [
    {
     "name": "stdout",
     "output_type": "stream",
     "text": [
      "詩句 <春眠不覺曉，處處聞啼鳥。夜來風雨聲，花落知多少。> \n",
      "來自邊塞派\n",
      "詩句 <春眠不覺曉，處處聞啼鳥。夜來風雨聲，花落知多少。> \n",
      "來自4\n"
     ]
    }
   ],
   "source": [
    "\n",
    "def predict(text, text_pipeline):\n",
    "    with torch.no_grad():\n",
    "        text = torch.tensor(text_pipeline(text))\n",
    "        output = model(text, torch.tensor([0]))\n",
    "        return output.argmax(1).item() + 1\n",
    "\n",
    "\n",
    "num_dict = {1:\"浪漫派\", 2:\"山水田園派\", 3:\"社會寫實派\", 4:\"邊塞派\"}\n",
    "\n",
    "item = \"春眠不覺曉，處處聞啼鳥。夜來風雨聲，花落知多少。\"\n",
    "item_ = ' '.join(item)\n",
    "# print(item_)\n",
    "\n",
    "model = model.to(\"cpu\")\n",
    "\n",
    "print(\"詩句 <%s> \\n來自%s\" % (item, num_dict[predict(item_, text_pipeline)]))\n",
    "print(\"詩句 <%s> \\n來自%s\" % (item, predict(item_, text_pipeline)))\n"
   ]
  },
  {
   "cell_type": "code",
   "execution_count": 70,
   "metadata": {},
   "outputs": [],
   "source": [
    "torch.save(model, 'product_classifier_1.pt')"
   ]
  },
  {
   "cell_type": "code",
   "execution_count": null,
   "metadata": {},
   "outputs": [],
   "source": []
  }
 ],
 "metadata": {
  "kernelspec": {
   "display_name": "Python 3",
   "language": "python",
   "name": "python3"
  },
  "language_info": {
   "codemirror_mode": {
    "name": "ipython",
    "version": 3
   },
   "file_extension": ".py",
   "mimetype": "text/x-python",
   "name": "python",
   "nbconvert_exporter": "python",
   "pygments_lexer": "ipython3",
   "version": "3.12.0"
  }
 },
 "nbformat": 4,
 "nbformat_minor": 2
}
