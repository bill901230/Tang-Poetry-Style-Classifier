{
 "cells": [
  {
   "cell_type": "markdown",
   "metadata": {},
   "source": [
    "浪漫派\n",
    "李白 161-185\n",
    "\n",
    "田園山水派\n",
    "王維 125-128\n",
    "孟浩然 159-160\n",
    "柳宗元 350-353\n",
    "\n",
    "社會寫實派\n",
    "杜甫 216-234\n",
    "\n",
    "邊塞派\n",
    "岑參 198-201\n",
    "高適 211-214\n",
    "王昌齡 140-143"
   ]
  },
  {
   "cell_type": "code",
   "execution_count": 3,
   "metadata": {},
   "outputs": [
    {
     "name": "stdout",
     "output_type": "stream",
     "text": [
      "plain_data/浪漫派.csv done\n",
      "data size: 6759\n",
      "plain_data/山水田園派.csv done\n",
      "data size: 4526\n",
      "plain_data/社會寫實派.csv done\n",
      "data size: 9664\n",
      "plain_data/邊塞派.csv done\n",
      "data size: 4761\n"
     ]
    }
   ],
   "source": [
    "# plain data collect\n",
    "import requests as rq\n",
    "from bs4 import BeautifulSoup\n",
    "import re\n",
    "import csv\n",
    "base_url = \"https://ctext.org/quantangshi/\"\n",
    "folder = \"plain_data/\"\n",
    "file_path = [\"浪漫派.csv\", \"山水田園派.csv\", \"社會寫實派.csv\", \"邊塞派.csv\"]\n",
    "books = [[[161, 185]], [[125, 128], [159, 160], [350, 353]], [[216, 234]]\n",
    "         , [[198, 201], [211, 214], [140, 143]]]\n",
    "for file_itr in range(4):\n",
    "    with open (folder+file_path[file_itr], 'w+', newline='', encoding='utf-8-sig') as csvfile:\n",
    "        cnt = 0\n",
    "        csvwriter = csv.writer(csvfile)\n",
    "        for j in range(len(books[file_itr])):\n",
    "            for i in range(books[file_itr][j][0], books[file_itr][j][1]+1):\n",
    "                rsp_web = rq.get(base_url+str(i))\n",
    "                soup = BeautifulSoup(rsp_web.text, 'html.parser')\n",
    "                content = soup.find('div', id = 'content3')\n",
    "                ctexts = content.select('.ctext:not([class*=\" \"])')\n",
    "                for ctext in ctexts:\n",
    "                    if ctext.get_text().strip() == '':\n",
    "                        continue\n",
    "                    text = ctext.get_text().replace('\\n','')\n",
    "                    lines = re.split('[。?]', text)\n",
    "                    for line in lines:\n",
    "                        if line.strip()=='' or re.compile(r'[^\\u4e00-\\u9fff]').match(line):\n",
    "                            continue\n",
    "                        csvwriter.writerow([line])\n",
    "                        cnt+=1\n",
    "        print(folder+file_path[file_itr]+\" done\\ndata size: \"+ str(cnt))"
   ]
  },
  {
   "cell_type": "code",
   "execution_count": 3,
   "metadata": {},
   "outputs": [
    {
     "name": "stdout",
     "output_type": "stream",
     "text": [
      "8999\n",
      "8988\n",
      "9664\n",
      "8997\n"
     ]
    }
   ],
   "source": [
    "#data balance and augmentation\n",
    "import random\n",
    "import csv\n",
    "def data_augmentation(input_path, output_path):\n",
    "    with open (input_path, 'r', newline='', encoding='utf-8-sig') as inputfile, \\\n",
    "         open(output_path, 'w', newline='', encoding='utf-8-sig') as outputfile:\n",
    "        cnt = 0\n",
    "        reader = csv.reader(inputfile)\n",
    "        writer = csv.writer(outputfile)\n",
    "        data = list(reader)\n",
    "        rate = 9000/len(data)\n",
    "        for row in data:\n",
    "            writer.writerows([row])\n",
    "            cnt+=1\n",
    "        if(rate>1):\n",
    "            sample = random.sample(data, int(len(data)*(rate-1)))\n",
    "            for row in sample:\n",
    "                segments = row[0].split(\"，\")\n",
    "                if(len(segments)>=2):\n",
    "                    s = \"{}，{}\".format(segments[1],segments[0])\n",
    "                    writer.writerow([s])\n",
    "                    cnt+=1\n",
    "        print(cnt)\n",
    "folder1 = \"plain_data/\"\n",
    "folder2 = \"proccessed_data/\"\n",
    "files = [\"浪漫派.csv\", \"山水田園派.csv\", \"社會寫實派.csv\", \"邊塞派.csv\"]\n",
    "for i in range(4):\n",
    "    data_augmentation(folder1+files[i], folder2+files[i])\n"
   ]
  },
  {
   "cell_type": "code",
   "execution_count": 1,
   "metadata": {},
   "outputs": [
    {
     "name": "stdout",
     "output_type": "stream",
     "text": [
      "train data cnt: 23137\n",
      "test data cnt: 2573\n",
      "total data cnt: 25710\n"
     ]
    }
   ],
   "source": [
    "# train/text data collecting\n",
    "import os\n",
    "import csv\n",
    "\n",
    "folder_path = 'plain_data/'\n",
    "train = open('./data/train.csv', 'w+', encoding='utf-8-sig')\n",
    "test = open('./data/test.csv', 'w+', encoding='utf-8-sig')\n",
    "all = open('./data/all.csv', 'w+', encoding='utf-8-sig')\n",
    "files = os.listdir(folder_path)\n",
    "\n",
    "# 四大分類\n",
    "dict = {\"浪漫派\":1, \"山水田園派\":2, \"社會寫實派\":3, \"邊塞派\":4}\n",
    "\n",
    "train_cnt = 0\n",
    "test_cnt = 0\n",
    "\n",
    "for file in files:\n",
    "    cnt = 0\n",
    "    file_path = os.path.join(folder_path, file)\n",
    "    # print(file[:-4])\n",
    "    with open(file_path, 'r', encoding = 'utf-8-sig') as f:\n",
    "        csvreader = csv.reader(f)\n",
    "        for row in csvreader:\n",
    "            text = ' '.join(row[0])\n",
    "            label = dict[file[:-4]]\n",
    "            data = \"{}, {}\".format(label, text)\n",
    "            all.write(\"{}, {}\\n\".format(label, row[0]))\n",
    "            if(cnt%10==0):\n",
    "                test.write(data+'\\n')\n",
    "                test_cnt+=1\n",
    "            else:\n",
    "                train.write(data+'\\n')\n",
    "                train_cnt+=1\n",
    "            cnt+=1\n",
    "print(\"train data cnt: {}\\ntest data cnt: {}\".format(train_cnt, test_cnt))\n",
    "print(\"total data cnt: {}\".format(train_cnt+test_cnt))"
   ]
  }
 ],
 "metadata": {
  "kernelspec": {
   "display_name": "Python 3",
   "language": "python",
   "name": "python3"
  },
  "language_info": {
   "codemirror_mode": {
    "name": "ipython",
    "version": 3
   },
   "file_extension": ".py",
   "mimetype": "text/x-python",
   "name": "python",
   "nbconvert_exporter": "python",
   "pygments_lexer": "ipython3",
   "version": "3.12.0"
  }
 },
 "nbformat": 4,
 "nbformat_minor": 2
}
